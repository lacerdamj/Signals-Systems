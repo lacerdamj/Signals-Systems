{
  "nbformat": 4,
  "nbformat_minor": 0,
  "metadata": {
    "colab": {
      "provenance": [],
      "collapsed_sections": [],
      "authorship_tag": "ABX9TyM6LhwiX1f4lSZe4mmgjl0A"
    },
    "kernelspec": {
      "name": "python3",
      "display_name": "Python 3"
    },
    "language_info": {
      "name": "python"
    }
  },
  "cells": [
    {
      "cell_type": "markdown",
      "source": [
        "#Signals and Systems\n",
        "\n",
        "## Laplace Transform\n",
        "\n",
        "Written by Márcio J. Lacerda"
      ],
      "metadata": {
        "id": "KMi3NSpXf8qy"
      }
    },
    {
      "cell_type": "markdown",
      "source": [
        "Consider a function $f(t)$, $f:\\mathbb{R}\\rightarrow \\mathbb{R}$, $f(t)=0$ for all $t<0$. \n",
        "\n",
        "The unilateral Laplace transform $\\mathcal{L}\\left[f(t)\\right]$ is a function $F:\\mathbb{C}\\rightarrow \\mathbb{C}$, with complex variables $s\\in \\mathbb{C}$ defined as\n",
        "\n",
        "$$\n",
        "F(s)=\\int_{0}^{\\infty}e^{-st}f(t)dt\n",
        "$$\n",
        "\n",
        "for all $s\\in \\mathbb{C}$ such that the integral exists.\n",
        "\n",
        "\n",
        "###Step function\n",
        "The Laplace transform of the step function $u(t)$ is computed as:\n",
        "\n",
        "$$\n",
        "u(t)= \\left\\{ \\begin{aligned} 0 & \\quad \\mbox{for}~ t<0 \\\\ 1 & \\quad \\mbox{for}~ t\\geq 0  \\end{aligned}\\right., \\quad \n",
        "F(s)=\\int_0^{\\infty}e^{-st}dt =\\left. -\\frac{1}{s}e^{-st}\\right|_0^{\\infty}= 0-\\left(-\\frac{1}{s}\\right)=\\frac{1}{s}\n",
        "$$\n",
        "\n"
      ],
      "metadata": {
        "id": "ofKmzBxqgUqj"
      }
    },
    {
      "cell_type": "code",
      "source": [
        "import sympy as sym\n",
        "\n",
        "sym.init_printing()\n",
        "\n",
        "t = sym.symbols('t', real=True)\n",
        "\n",
        "s = sym.symbols('s', complex=True)\n",
        "\n",
        "F = sym.integrate(sym.exp(-s*t), (t, 0, sym.oo))\n",
        "\n",
        "print(\"The Laplace transform of the signal is\", )\n",
        "F"
      ],
      "metadata": {
        "colab": {
          "base_uri": "https://localhost:8080/",
          "height": 100
        },
        "id": "jxLXFFGmhaar",
        "outputId": "e53b8340-ffa5-47a3-b0bd-1e3b385cee85"
      },
      "execution_count": 1,
      "outputs": [
        {
          "output_type": "stream",
          "name": "stdout",
          "text": [
            "The Laplace transform of the signal is\n"
          ]
        },
        {
          "output_type": "execute_result",
          "data": {
            "text/plain": [
              "⎧    1                      π\n",
              "⎪    ─       for │arg(s)│ < ─\n",
              "⎪    s                      2\n",
              "⎪                            \n",
              "⎪∞                           \n",
              "⎨⌠                           \n",
              "⎪⎮  -s⋅t                     \n",
              "⎪⎮ ℯ     dt     otherwise    \n",
              "⎪⌡                           \n",
              "⎪0                           \n",
              "⎩                            "
            ],
            "text/latex": "$\\displaystyle \\begin{cases} \\frac{1}{s} & \\text{for}\\: \\left|{\\arg{\\left(s \\right)}}\\right| < \\frac{\\pi}{2} \\\\\\int\\limits_{0}^{\\infty} e^{- s t}\\, dt & \\text{otherwise} \\end{cases}$"
          },
          "metadata": {},
          "execution_count": 1
        }
      ]
    },
    {
      "cell_type": "markdown",
      "source": [
        "SymPy has a specific function that can be used to compute the Laplace transform. To exemplify this function we will employ the unit step. The function Heaviside in SymPy represents the unit step function. "
      ],
      "metadata": {
        "id": "AYg9RkK8Er2t"
      }
    },
    {
      "cell_type": "code",
      "source": [
        "f = sym.Heaviside(t) # This is the unit step function in sympy\n",
        "\n",
        "sym.plot(f)\n",
        "\n",
        "F = sym.laplace_transform(f, t, s, noconds=True)\n",
        "\n",
        "print(\"The Laplace transform of the signal is \", )\n",
        "\n",
        "F"
      ],
      "metadata": {
        "colab": {
          "base_uri": "https://localhost:8080/",
          "height": 347
        },
        "id": "7BnKqY5fE-en",
        "outputId": "9e1b8a8d-979d-4095-d919-f4d2a5d36fb4"
      },
      "execution_count": 2,
      "outputs": [
        {
          "output_type": "display_data",
          "data": {
            "text/plain": [
              "<Figure size 432x288 with 1 Axes>"
            ],
            "image/png": "[encoded data removed]"
          },
          "metadata": {
            "needs_background": "light"
          }
        },
        {
          "output_type": "stream",
          "name": "stdout",
          "text": [
            "The Laplace transform of the signal is \n"
          ]
        },
        {
          "output_type": "execute_result",
          "data": {
            "text/plain": [
              "1\n",
              "─\n",
              "s"
            ],
            "image/png": "[encoded data removed]",
            "text/latex": "$\\displaystyle \\frac{1}{s}$"
          },
          "metadata": {},
          "execution_count": 2
        }
      ]
    },
    {
      "cell_type": "markdown",
      "source": [
        "##Impulse function\n",
        "\n",
        "Consider the impuse function $\\delta(t)$ given as\n",
        "$$\n",
        "\\delta(t)= \\left\\{ \\begin{aligned} 0 & \\quad \\mbox{se}~t \\neq 0 \\\\ \\infty & \\quad \\mbox{se}~ t= 0  \\end{aligned}\\right., \\quad  \\mbox{such that} \\quad \\int_{-\\infty}^{\\infty} \\delta(t)dt=1,  \n",
        "$$\n",
        "\n",
        "The Laplace transform can be computed via the integral\n",
        "\n",
        "\\begin{equation*}\n",
        "F(s)=\\int_{0}^{\\infty}\\delta(t)e^{-st}dt =e^{-s0}=1\n",
        "\\end{equation*}\n",
        "\n",
        "In the computational solution we need to be careful to consider the inferior limit of the integral to be $0^-$. This is because the impulse function is defined as a function of its integral. \n"
      ],
      "metadata": {
        "id": "Hpj_PWJgoT3x"
      }
    },
    {
      "cell_type": "code",
      "source": [
        "delta = sym.DiracDelta(t) # This is the impulse function in SymPy\n",
        "\n",
        "tau = sym.symbols('tau', real=True)\n",
        "\n",
        "#The integral needs to start in 0\n",
        "\n",
        "F = sym.limit( sym.integrate(delta,(t,tau,sym.oo)), tau, 0, dir='-')\n",
        "\n",
        "print(\"The Laplace transform of the signal is F =\",F )\n"
      ],
      "metadata": {
        "colab": {
          "base_uri": "https://localhost:8080/"
        },
        "id": "CmsSjEBco1rr",
        "outputId": "56424002-4f97-43ee-c37e-0c9e1b26b9f4"
      },
      "execution_count": 3,
      "outputs": [
        {
          "output_type": "stream",
          "name": "stdout",
          "text": [
            "The Laplace transform of the signal is F = 1\n"
          ]
        }
      ]
    },
    {
      "cell_type": "markdown",
      "source": [
        "Time delay\n",
        "$$\n",
        "\\mathcal{L}\\left[ f(t-\\tau) \\right]= e^{-s\\tau}\\mathcal{L}\\left[f(t)\\right]\n",
        "$$\n",
        "\n",
        "Obtain the Laplace transform of the sinal $f(t)=3u(t-2)$. "
      ],
      "metadata": {
        "id": "cufgM6wsx9OA"
      }
    },
    {
      "cell_type": "code",
      "source": [
        "f = 3*sym.Heaviside(t-2) \n",
        "\n",
        "F = sym.laplace_transform(f, t, s, noconds=True)\n",
        "\n",
        "print(\"The Laplace transform of the signal is \", )\n",
        "\n",
        "F"
      ],
      "metadata": {
        "colab": {
          "base_uri": "https://localhost:8080/",
          "height": 71
        },
        "id": "amVIsMVoyRjs",
        "outputId": "84d50d76-8659-40db-bd3a-a3168cf17889"
      },
      "execution_count": 4,
      "outputs": [
        {
          "output_type": "stream",
          "name": "stdout",
          "text": [
            "The Laplace transform of the signal is \n"
          ]
        },
        {
          "output_type": "execute_result",
          "data": {
            "text/plain": [
              "   -2⋅s\n",
              "3⋅ℯ    \n",
              "───────\n",
              "   s   "
            ],
            "image/png": "[encoded data removed]",
            "text/latex": "$\\displaystyle \\frac{3 e^{- 2 s}}{s}$"
          },
          "metadata": {},
          "execution_count": 4
        }
      ]
    },
    {
      "cell_type": "markdown",
      "source": [
        "Exponential scaling\n",
        "$$\n",
        "\\mathcal{L}\\left[ e^{at}f(t) \\right]= F(s-a),\\quad  \\mbox{with}\\quad F(s)=    \\mathcal{L}\\left[f(t) \\right]\n",
        "$$\n",
        "\n",
        "Obtain the Laplace transform of the signal $f(t)e^{at}u(t)$"
      ],
      "metadata": {
        "id": "MH-Pv-W1yr01"
      }
    },
    {
      "cell_type": "code",
      "source": [
        "a = sym.symbols('a', real=True)\n",
        "\n",
        "f = sym.exp(a*t)*sym.Heaviside(t) \n",
        "\n",
        "F = sym.laplace_transform(f, t, s, noconds=True)\n",
        "\n",
        "print(\"The Laplace transform of the signal is \", )\n",
        "\n",
        "F"
      ],
      "metadata": {
        "colab": {
          "base_uri": "https://localhost:8080/",
          "height": 70
        },
        "id": "9ebM_jsXy-qn",
        "outputId": "04e4a61b-05af-44ed-d786-7ef655749a52"
      },
      "execution_count": 5,
      "outputs": [
        {
          "output_type": "stream",
          "name": "stdout",
          "text": [
            "The Laplace transform of the signal is \n"
          ]
        },
        {
          "output_type": "execute_result",
          "data": {
            "text/plain": [
              "  1   \n",
              "──────\n",
              "-a + s"
            ],
            "image/png": "[encoded data removed]",
            "text/latex": "$\\displaystyle \\frac{1}{- a + s}$"
          },
          "metadata": {},
          "execution_count": 5
        }
      ]
    },
    {
      "cell_type": "markdown",
      "source": [
        "Obtain the Laplace transform of the signal $f(t)=\\cos(\\omega t)u(t)$. \n",
        "\n",
        "Note that $f(t)$ can be written as\n",
        "\n",
        "$$    \n",
        "f(t)=\\frac{e^{j\\omega t}+e^{-j \\omega t}}{2}u(t)\n",
        "    =\\frac{e^{j\\omega t}}{2}u(t)+\\frac{e^{-j\\omega t}}{2}u(t)\n",
        "$$\n",
        "\n",
        "Applying the property\n",
        "\n",
        "$$\n",
        "\\mathcal{L}\\left[f(t) \\right]=\\frac{1}{2}\\frac{1}{(s-j\\omega)}+ \\frac{1}{2}\\frac{1}{(s+j\\omega)} = \\frac{s}{s^2+\\omega^2} \n",
        "$$    "
      ],
      "metadata": {
        "id": "xzNaCQuI0DY_"
      }
    },
    {
      "cell_type": "code",
      "source": [
        "omega = sym.symbols('omega', real=True)\n",
        "\n",
        "f = sym.cos(omega*t)*sym.Heaviside(t) \n",
        "\n",
        "F = sym.laplace_transform(f, t, s, noconds=True)\n",
        "\n",
        "print(\"The Laplace transform of the signal is \", )\n",
        "\n",
        "F"
      ],
      "metadata": {
        "colab": {
          "base_uri": "https://localhost:8080/",
          "height": 66
        },
        "id": "6779t6tS0wl7",
        "outputId": "87496fa5-232e-48b5-a580-aca63c160296"
      },
      "execution_count": 6,
      "outputs": [
        {
          "output_type": "stream",
          "name": "stdout",
          "text": [
            "The Laplace transform of the signal is \n"
          ]
        },
        {
          "output_type": "execute_result",
          "data": {
            "text/plain": [
              "   s   \n",
              "───────\n",
              " 2    2\n",
              "ω  + s "
            ],
            "image/png": "[encoded data removed]",
            "text/latex": "$\\displaystyle \\frac{s}{\\omega^{2} + s^{2}}$"
          },
          "metadata": {},
          "execution_count": 6
        }
      ]
    },
    {
      "cell_type": "markdown",
      "source": [
        "Multiplying by $t$\n",
        "$$\n",
        "    \\mathcal{L}\\left[ tf(t) \\right]= -\\frac{d}{ds}    \\mathcal{L}\\left[f(t) \\right].\n",
        "$$\n",
        "\n",
        "Obtain the Laplace transform of the signal $f(t)=tu(t)$. \n",
        "    \n",
        "$$\n",
        "\\mathcal{L}\\left[ tu(t) \\right]= -\\frac{d}{ds}    \\mathcal{L}\\left[u(t) \\right] =-\\frac{d}{ds}\\left(\\frac{1}{s}\\right) =\\frac{1}{s^2}\n",
        "$$"
      ],
      "metadata": {
        "id": "wJukZBjJ1Op4"
      }
    },
    {
      "cell_type": "code",
      "source": [
        "f = t*sym.Heaviside(t) \n",
        "\n",
        "F = sym.laplace_transform(f, t, s, noconds=True)\n",
        "\n",
        "print(\"The Laplace transform of the signal is \", )\n",
        "\n",
        "F"
      ],
      "metadata": {
        "colab": {
          "base_uri": "https://localhost:8080/",
          "height": 68
        },
        "id": "MnnI842E1jx8",
        "outputId": "235ca4df-6c54-4fdb-9356-e744ac4a1966"
      },
      "execution_count": 7,
      "outputs": [
        {
          "output_type": "stream",
          "name": "stdout",
          "text": [
            "The Laplace transform of the signal is \n"
          ]
        },
        {
          "output_type": "execute_result",
          "data": {
            "text/plain": [
              "1 \n",
              "──\n",
              " 2\n",
              "s "
            ],
            "image/png": "[encoded data removed]",
            "text/latex": "$\\displaystyle \\frac{1}{s^{2}}$"
          },
          "metadata": {},
          "execution_count": 7
        }
      ]
    },
    {
      "cell_type": "markdown",
      "source": [
        " By using the properties presented above, obtain the Laplace transform of the signal $g(t)=100te^{-t}\\cos(2t)u(t)$.\n",
        "\n",
        "Note that \n",
        "$$\n",
        "\\mathcal{L}\\left[ 100te^{-t}\\cos(2t)u(t) \\right]= -100\\frac{d}{ds}    \\mathcal{L}\\left[e^{-t}\\cos(2t)u(t) \\right],\n",
        "$$\n",
        "and\n",
        "$$\n",
        "\\mathcal{L}\\left[e^{-t}\\cos(2t)u(t) \\right]=F(s+1)~ \\mbox{where} ~F(s)=    \\mathcal{L}\\left[cos(2t)u(t) \\right] \n",
        "$$\n",
        "\n",
        "\n",
        "\n",
        "\n",
        "\n",
        "*   Obtain $F(s)$\n",
        "$$\n",
        "F(s)=\\frac{s}{s^2+2^2}\n",
        "$$\n",
        "\n",
        "*   Obtain $F(s+1)$\n",
        "$$\n",
        "F(s+1)=\\frac{s+1}{(s+1)^2+2^2}\n",
        "$$\n",
        "\n",
        "*   In the final step Compute $G(s)=\\displaystyle{-100\\frac{d}{ds}F(s+1)}$.\n",
        "\n",
        "$$\n",
        "G(s)=-100\\frac{d}{ds}\\frac{s+1}{(s+1)^2+2^2}= -100\\frac{1(s^2+2s+1+4)-(s+1)(2s+2)}{(s^2+2s+1+4)^2}\n",
        "$$\n",
        "\n",
        "$$\n",
        "G(s)=-100\\frac{-s^2-2s+3}{(s^2+2s+5)^2} =100\\frac{(s+1)^2-4}{(s^2+2s+5)^2}\n",
        "$$\n",
        "    \n"
      ],
      "metadata": {
        "id": "4l5hLOqI2rzR"
      }
    },
    {
      "cell_type": "code",
      "source": [
        "g = 100*t*sym.exp(-t)*sym.cos(2*t)*sym.Heaviside(t) \n",
        "\n",
        "G = sym.laplace_transform(g, t, s, noconds=True)\n",
        "\n",
        "print(\"The Laplace transform of the signal is \", )\n",
        "\n",
        "G"
      ],
      "metadata": {
        "colab": {
          "base_uri": "https://localhost:8080/",
          "height": 104
        },
        "id": "FifxGzhq2z3N",
        "outputId": "703e80f4-dc86-4b0c-934c-e39ba5aac6ab"
      },
      "execution_count": 8,
      "outputs": [
        {
          "output_type": "stream",
          "name": "stdout",
          "text": [
            "The Laplace transform of the signal is \n"
          ]
        },
        {
          "output_type": "execute_result",
          "data": {
            "text/plain": [
              "    ⎛       2    ⎞\n",
              "100⋅⎝(s + 1)  - 4⎠\n",
              "──────────────────\n",
              "               2  \n",
              " ⎛       2    ⎞   \n",
              " ⎝(s + 1)  + 4⎠   "
            ],
            "image/png": "[encoded data removed]",
            "text/latex": "$\\displaystyle \\frac{100 \\left(\\left(s + 1\\right)^{2} - 4\\right)}{\\left(\\left(s + 1\\right)^{2} + 4\\right)^{2}}$"
          },
          "metadata": {},
          "execution_count": 8
        }
      ]
    }
  ]
}