{
  "nbformat": 4,
  "nbformat_minor": 0,
  "metadata": {
    "colab": {
      "provenance": [],
      "collapsed_sections": [],
      "authorship_tag": "ABX9TyM2hue8VoRZun/i+lH3rm3L",
      "include_colab_link": true
    },
    "kernelspec": {
      "name": "python3",
      "display_name": "Python 3"
    },
    "language_info": {
      "name": "python"
    }
  },
  "cells": [
    {
      "cell_type": "markdown",
      "metadata": {
        "id": "view-in-github",
        "colab_type": "text"
      },
      "source": [
        "<a href=\"https://colab.research.google.com/github/lacerdamj/Signals-Systems/blob/main/PowerEnergy.ipynb\" target=\"_parent\"><img src=\"https://colab.research.google.com/assets/colab-badge.svg\" alt=\"Open In Colab\"/></a>"
      ]
    },
    {
      "cell_type": "markdown",
      "source": [
        "# **Signals and Systems**\n",
        "# *Power & Energy*\n",
        "\n",
        "*Written by Márcio J. Lacerda*"
      ],
      "metadata": {
        "id": "DCGFPIBnFoHB"
      }
    },
    {
      "cell_type": "code",
      "source": [
        "import numpy as np\n",
        "import matplotlib.pyplot as plt"
      ],
      "metadata": {
        "id": "lUa7GLHoF0sw"
      },
      "execution_count": 1,
      "outputs": []
    },
    {
      "cell_type": "markdown",
      "source": [
        "Compute the energy of the signal\n",
        "\n",
        "$$g(t)=t(u(t)-u(t-1))+(2-t)(u(t-1)-u(t-2)).$$\n",
        "\n",
        "The energy of a signal over an infinite time interval is given by\n",
        "\n",
        "$$\n",
        "E=\\lim_{T→\\infty} \\int_{-T}^{T}\\left| x(t)\\right|^2dt.\n",
        "$$\n",
        "\n",
        "The signal $g(t)$ is defined only in the interval [0,2], the energy can be computed as\n",
        "\n",
        "$$E=\\int_0^2\\left| g(t)\\right|^2dt= \\color{blue}{\\underbrace{\\int_0^1t^{2}dt}_{E_1}}+ \\color{red}{\\underbrace{\\int_1^2(2-t)^{2}dt}_{E_2}}.$$\n",
        "\n",
        "The first integral yields\n",
        "$$\n",
        "\\color{blue}{E_1=} \\int_0^1t^{2}dt=\\left.\\frac{t^3}{3}\\right|_{0}^{1} =\\frac{1}{3},\n",
        "$$\n",
        "and the second integral leads to\n",
        "$$\n",
        "\\color{red}{E_2=}\\int_1^2{(4-4t+t^{2})}dt=\\left.\\left(4t-\\frac{4t^2}{2}+\\frac{t^3}{3}\\right)\\right|_{1}^{2} =\\left(8-\\frac{16}{2}+\\frac{8}{3}\\right)-\\left(4-\\frac{4}{2}+\\frac{1}{3}\\right)= \\frac{8}{3}-\\frac{7}{3}=\\frac{1}{3}.\n",
        "$$\n",
        "\n",
        "Finally, the total energy is\n",
        "\n",
        "$$\n",
        "E= \\color{blue}{E_1}+\\color{red}{E_2}= \\frac{1}{3}+\\frac{1}{3}=\\frac{2}{3}=0.66666.\n",
        "$$\n",
        "In what follows the code to compute the energy of the signal is presented.\n"
      ],
      "metadata": {
        "id": "sO57lsmWSIrP"
      }
    },
    {
      "cell_type": "code",
      "source": [
        "n = 1000\n",
        "tf = 2\n",
        "t0 = 0\n",
        "t = np.linspace(t0, tf, n)\n",
        "T = t[1] - t[0]  # sampling width\n",
        "\n",
        "g1 = np.where(np.logical_and(t>=0, t<=1), t, 0)  # build input functions\n",
        "g2 = np.where(np.logical_and(t>=1, t<=2), 2-t, 0)  # build input functions\n",
        "g = g1+g2 \n",
        "\n",
        "# plot results:    \n",
        "fg, ax = plt.subplots(1, 1)\n",
        "\n",
        "ax.plot(t,g, 'k', label=\"$g(t)$\", linewidth=2)\n",
        "ax.plot(t,abs(g)**2, 'r', label=\"$g(t)^2$\", linewidth=2)\n",
        "\n",
        "ax.grid(True)\n",
        "ax.legend(loc='best')\n",
        "plt.xlabel('t', fontsize=12)\n",
        "fg.canvas.draw()\n",
        "\n",
        "E=(sum(g*g))*T\n",
        "\n",
        "print(\"The energy of the signal is E =\", E)\n"
      ],
      "metadata": {
        "colab": {
          "base_uri": "https://localhost:8080/",
          "height": 299
        },
        "id": "llaLA8BnsoE8",
        "outputId": "11a80246-cda1-414f-b323-a14487baae82"
      },
      "execution_count": 2,
      "outputs": [
        {
          "output_type": "stream",
          "name": "stdout",
          "text": [
            "The energy of the signal is E = 0.6666659986646656\n"
          ]
        },
        {
          "output_type": "display_data",
          "data": {
            "text/plain": [
              "<Figure size 432x288 with 1 Axes>"
            ],
            "image/png": "[encoded data removed]"
          },
          "metadata": {
            "needs_background": "light"
          }
        }
      ]
    },
    {
      "cell_type": "markdown",
      "source": [
        "Evaluate the power of the signal \n",
        "\n",
        "$$\n",
        "h(t)=4\\cos \\left( \\frac{2\\pi t}{10} \\right).\n",
        "$$\n",
        "\n",
        "The average power of a signal over an infinite time interval is given by\n",
        "\n",
        "$$\n",
        "P_{av}=\\lim_{T→\\infty}\\frac{1}{T} \\int_{-\\frac{T}{2}}^{\\frac{T}{2}}\\left| h(t)\\right|^2dt.\n",
        "$$\n",
        "\n",
        "If a periodic signal is analyzed, it suffices to evaluate the integral over a single period of the signal\n",
        "\n",
        "$$\n",
        "P_{av}=\\frac{1}{T_0} \\int_{-\\frac{T_0}{2}}^{\\frac{T_0}{2}}\\left| h(t)\\right|^2dt,\n",
        "$$\n",
        "where $T_0$ is the period of the signal. In the studied example we have \n",
        "\n",
        "$$\n",
        "P_{av}=\\frac{1}{10} \\int_{-\\frac{10}{2}}^{\\frac{10}{2}}\\left[ 4\\cos \\left( \\frac{2\\pi t}{10} \\right)\\right]^2dt= \\frac{1}{10} \\int_{-5}^{5}16 \\cos^2\\left(\\frac{2\\pi t}{10} \\right)dt,\n",
        "$$\n",
        "\n",
        "To solve the integral the following relations are employed\n",
        "\n",
        "$$\n",
        "\\color{blue}{\\cos\\left(\\frac{4\\pi t}{10} \\right)=\\cos^2\\left(\\frac{2\\pi t}{10} \\right)-\\sin^2\\left(\\frac{2\\pi t}{10} \\right),} \n",
        "$$\n",
        "and\n",
        "$$\n",
        "\\color{red}{\\cos^2\\left(\\frac{2\\pi t}{10} \\right) + \\sin^2\\left(\\frac{2\\pi t}{10} \\right)=1.} \n",
        "$$\n",
        "\n",
        "Note that we can write\n",
        "\n",
        "$$\n",
        "\\color{red}{\\sin^2\\left(\\frac{2\\pi t}{10} \\right)=1 -\\cos^2\\left(\\frac{2\\pi t}{10} \\right),} \n",
        "$$\n",
        "and consequently\n",
        "\n",
        "$$\n",
        "\\color{blue}{\\cos\\left(\\frac{4\\pi t}{10} \\right)=\\cos^2\\left(\\frac{2\\pi t}{10} \\right)}-\\left( \\color{red}{1 -\\cos^2\\left(\\frac{2\\pi t}{10} \\right)}\\right), \n",
        "$$\n",
        "or\n",
        "\n",
        "$$\n",
        "2\\cos^2\\left(\\frac{2\\pi t}{10} \\right)=\\cos\\left(\\frac{4\\pi t}{10} \\right)+1,\n",
        "$$\n",
        "\n",
        "which is equivalent to\n",
        "$$\n",
        "\\cos^2\\left(\\frac{2\\pi t}{10} \\right)=\\frac{1}{2}\\cos\\left(\\frac{4\\pi t}{10} \\right)+\\frac{1}{2}.\n",
        "$$\n",
        "\n",
        "The integral is then rewritten as\n",
        "\n",
        "$$\n",
        "P_{av}=\\frac{1}{10} \\int_{-5}^{5}16 \\left(\\frac{1}{2}\\cos\\left(\\frac{4\\pi t}{10} \\right)+\\frac{1}{2} \\right)dt,\n",
        "$$\n",
        "\n",
        "$$\n",
        "P_{av}=\\frac{1}{10} \\int_{-5}^{5}8 \\cos\\left(\\frac{4\\pi t}{10} \\right)dt + \\frac{1}{10} \\int_{-5}^{5}8 dt,\n",
        "$$\n",
        "\n",
        "$$\n",
        "P_{av}=\\frac{1}{10} \\left. \\frac{10}{4\\pi}8 \\sin\\left(\\frac{4\\pi t}{10} \\right)\\right|_{-5}^{5}  + \\left.\\frac{1}{10} 8t\\right|_{-5}^{5}.\n",
        "$$\n",
        "\n",
        "The first term is zero, and the power of the signal is given by\n",
        "$$\n",
        "P_{av}=\\left.\\frac{1}{10} 8t\\right|_{-5}^{5}= \\frac{1}{10} \\left( 40-(-40)\\right)=8.\n",
        "$$\n",
        "\n",
        "In the sequel the code to compute the energy of the signal is presented.\n"
      ],
      "metadata": {
        "id": "0V6Dn-U-T3Kg"
      }
    },
    {
      "cell_type": "code",
      "source": [
        "n = 10000\n",
        "tf = 7.5\n",
        "t0 = -2.5\n",
        "t = np.linspace(t0, tf, n)\n",
        "T = t[1] - t[0]  # sampling width\n",
        "\n",
        "h=4*np.cos(2*np.pi*t/10)\n",
        "\n",
        "# plot results:    \n",
        "fg, ax = plt.subplots(1, 1)\n",
        "\n",
        "ax.plot(t,h, 'k', label=\"$h(t)$\", linewidth=2)\n",
        "ax.grid(True)\n",
        "ax.legend(loc='best')\n",
        "plt.xlabel('t', fontsize=12)\n",
        "fg.canvas.draw()\n",
        "\n",
        "Pav=((1/10)*(sum(np.abs(h)**2)))*T\n",
        "\n",
        "print(\"The power of the signal is P_{av} =\", Pav)\n"
      ],
      "metadata": {
        "id": "P8Qt1kmiUY3Y",
        "colab": {
          "base_uri": "https://localhost:8080/",
          "height": 299
        },
        "outputId": "3dc9dfa0-296d-42dd-e19f-a8611f0da3db"
      },
      "execution_count": 3,
      "outputs": [
        {
          "output_type": "stream",
          "name": "stdout",
          "text": [
            "The power of the signal is P_{av} = 8.000000000000465\n"
          ]
        },
        {
          "output_type": "display_data",
          "data": {
            "text/plain": [
              "<Figure size 432x288 with 1 Axes>"
            ],
            "image/png": "[encoded data removed]"
          },
          "metadata": {
            "needs_background": "light"
          }
        }
      ]
    }
  ]
}