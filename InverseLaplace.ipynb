{
  "nbformat": 4,
  "nbformat_minor": 0,
  "metadata": {
    "colab": {
      "provenance": [],
      "collapsed_sections": [],
      "authorship_tag": "ABX9TyMwfGyqvRuZoxg0WiJuMBdr"
    },
    "kernelspec": {
      "name": "python3",
      "display_name": "Python 3"
    },
    "language_info": {
      "name": "python"
    }
  },
  "cells": [
    {
      "cell_type": "markdown",
      "source": [
        "\n",
        "#Signals and Systems\n",
        "\n",
        "##Inverse Laplace Transform\n",
        "\n",
        "Written by Márcio J. Lacerda\n",
        "\n"
      ],
      "metadata": {
        "id": "hhJ_DH3gHR-6"
      }
    },
    {
      "cell_type": "markdown",
      "source": [
        "The uniqueness property of the Laplace transform establishes that \n",
        "\n",
        "$$\n",
        "x(t) ⇔ X(s).\n",
        "$$\n",
        "\n",
        "It means that there is a unique Laplace transform $X(s)$ for a given $x(t)$, and the other way around.\n",
        "\n",
        "$$\n",
        "\\mathcal{L}\\left\\{ x(t)\\right\\}=X(s), \\quad \\mathcal{L}^{-1}\\left\\{ X(s)\\right\\}=x(t).\n",
        "$$\n",
        "\n",
        "In the sequel some examples are discussed using SymPy. \n",
        "\n",
        "Determine the inverse transform of the signal \n",
        "$$\n",
        "X(s)= \\frac{1}{s}.\n",
        "$$\n",
        "In SymPy the symbol $\\theta(t)$ represents the step function $u(t)$. "
      ],
      "metadata": {
        "id": "aMCldFq5Jflm"
      }
    },
    {
      "cell_type": "code",
      "source": [
        "import sympy as sym\n",
        "\n",
        "sym.init_printing()\n",
        "s = sym.symbols('s', complex=True)\n",
        "t = sym.symbols('t', real=True)\n",
        "\n",
        "X = 1/s\n",
        "x = sym.inverse_laplace_transform(X, s, t)\n",
        "\n",
        "print(\"The inverse Laplace transform of the signal is\", )\n",
        "x"
      ],
      "metadata": {
        "colab": {
          "base_uri": "https://localhost:8080/",
          "height": 56
        },
        "id": "ctXIgSirISvJ",
        "outputId": "e5ebe7b5-04a6-4923-b621-173bc1124388"
      },
      "execution_count": 1,
      "outputs": [
        {
          "output_type": "stream",
          "name": "stdout",
          "text": [
            "The inverse Laplace transform of the signal is\n"
          ]
        },
        {
          "output_type": "execute_result",
          "data": {
            "text/plain": [
              "θ(t)"
            ],
            "image/png": "[encoded data removed]",
            "text/latex": "$\\displaystyle \\theta\\left(t\\right)$"
          },
          "metadata": {},
          "execution_count": 1
        }
      ]
    },
    {
      "cell_type": "markdown",
      "source": [
        "Determine the inverse Laplace transform of the signal \n",
        "\n",
        "$$\n",
        "F(s)= \\frac{1}{s+a}.\n",
        "$$\n",
        "\n",
        "Note that $F(s)=X(s+a)$. \n",
        "\n",
        "The shift property states that \n",
        "\n",
        "$$\n",
        "\\mathcal{L}^{-1}\\left\\{ X(s+a)\\right\\}=e^{-at}\\mathcal{L}^{-1}\\left\\{ X(s)\\right\\}.\n",
        "$$\n",
        "\n",
        "In this case \n",
        "\n",
        "$$\n",
        "\\mathcal{L}^{-1}\\left\\{ X(s+a)\\right\\}=e^{-at}\\mathcal{L}^{-1}\\left\\{\\frac{1}{s}\\right\\},\n",
        "$$\n",
        "\n",
        "or\n",
        "\n",
        "$$\n",
        "f(t)=e^{-at}u(t).\n",
        "$$"
      ],
      "metadata": {
        "id": "M0gRT7hvJz4n"
      }
    },
    {
      "cell_type": "code",
      "source": [
        "a = sym.symbols('a', real=True)\n",
        "F = 1/(s+a)\n",
        "f = sym.inverse_laplace_transform(F, s, t)\n",
        "\n",
        "print(\"The inverse Laplace transform of the signal is\", )\n",
        "f"
      ],
      "metadata": {
        "colab": {
          "base_uri": "https://localhost:8080/",
          "height": 56
        },
        "id": "EFB-m4ZcJamK",
        "outputId": "de7597b1-de74-48bd-c5f0-051cf7e0eeda"
      },
      "execution_count": 2,
      "outputs": [
        {
          "output_type": "stream",
          "name": "stdout",
          "text": [
            "The inverse Laplace transform of the signal is\n"
          ]
        },
        {
          "output_type": "execute_result",
          "data": {
            "text/plain": [
              " -a⋅t     \n",
              "ℯ    ⋅θ(t)"
            ],
            "image/png": "[encoded data removed]",
            "text/latex": "$\\displaystyle e^{- a t} \\theta\\left(t\\right)$"
          },
          "metadata": {},
          "execution_count": 2
        }
      ]
    },
    {
      "cell_type": "markdown",
      "source": [
        "Determine the inverse Laplace transform of the signal \n",
        "\n",
        "$$\n",
        "G(s)= e^{-Ts}\\frac{1}{s+a}.\n",
        "$$\n",
        "\n",
        "Note that $G(s)=e^{-Ts}F(s)$. \n",
        "\n",
        "The shift property states that \n",
        "\n",
        "$$\n",
        "\\mathcal{L}^{-1}\\left\\{ G(s) \\right\\}= \\mathcal{L}^{-1}\\left\\{ e^{-Ts}F(s) \\right\\}=f(t-T).\n",
        "$$\n",
        "\n",
        "In this case \n",
        "$$\n",
        "g(t)=f(t-T)=e^{-a(t-T)}u(t-T).\n",
        "$$"
      ],
      "metadata": {
        "id": "2tuQ4lEX3ZjC"
      }
    },
    {
      "cell_type": "code",
      "source": [
        "T = sym.symbols('T', real=True)\n",
        "G = sym.exp(-T*s)/(s+a)\n",
        "g = sym.inverse_laplace_transform(G, s, t)\n",
        "\n",
        "print(\"The inverse Laplace transform of the signal is\", )\n",
        "g"
      ],
      "metadata": {
        "colab": {
          "base_uri": "https://localhost:8080/",
          "height": 57
        },
        "id": "JaUa0JZn4auG",
        "outputId": "b26ac237-e2a3-4936-90e2-93da4729949a"
      },
      "execution_count": 3,
      "outputs": [
        {
          "output_type": "stream",
          "name": "stdout",
          "text": [
            "The inverse Laplace transform of the signal is\n"
          ]
        },
        {
          "output_type": "execute_result",
          "data": {
            "text/plain": [
              " a⋅(T - t)          \n",
              "ℯ         ⋅θ(-T + t)"
            ],
            "image/png": "[encoded data removed]",
            "text/latex": "$\\displaystyle e^{a \\left(T - t\\right)} \\theta\\left(- T + t\\right)$"
          },
          "metadata": {},
          "execution_count": 3
        }
      ]
    },
    {
      "cell_type": "markdown",
      "source": [
        "Determine the inverse Laplace transform of the signal\n",
        "\n",
        "$$\n",
        "M(s)=\\frac{s+1}{s^2+5s+6}.\n",
        "$$\n",
        "\n",
        "This is a strictly proper rational function that can be written as\n",
        "\n",
        "$$\n",
        "M(s)=\\frac{s+1}{(s+2)(s+3)}=\\frac{A}{s+2}+\\frac{B}{s+3}.\n",
        "$$\n",
        "\n",
        "Find the values of $A$ and $B$.\n",
        "\n"
      ],
      "metadata": {
        "id": "ayGbf8bPKRLa"
      }
    },
    {
      "cell_type": "code",
      "execution_count": 4,
      "metadata": {
        "colab": {
          "base_uri": "https://localhost:8080/",
          "height": 56
        },
        "id": "9aRAU4UEHQJh",
        "outputId": "e7cba25d-2c77-4085-cc12-133ef07bccf6"
      },
      "outputs": [
        {
          "output_type": "stream",
          "name": "stdout",
          "text": [
            "The coefficients are given by\n"
          ]
        },
        {
          "output_type": "execute_result",
          "data": {
            "text/plain": [
              "{A: -1, B: 2}"
            ],
            "image/png": "[encoded data removed]",
            "text/latex": "$\\displaystyle \\left\\{ A : -1, \\  B : 2\\right\\}$"
          },
          "metadata": {},
          "execution_count": 4
        }
      ],
      "source": [
        "A, B= sym.symbols('A B', real=True)\n",
        "\n",
        "N=s+1\n",
        "D=s**2+5*s+6\n",
        "M=N/D\n",
        "Mp = A/(s+2) + B/(s+3)\n",
        "\n",
        "coeffs = sym.solve(sym.Eq(M, Mp), (A, B))\n",
        "\n",
        "print(\"The coefficients are given by\", )\n",
        "coeffs"
      ]
    },
    {
      "cell_type": "markdown",
      "source": [
        "With the coefficients one can write\n",
        "\n",
        "$$\n",
        "M(s)=\\frac{-1}{s+2}+\\frac{2}{s+3}.\n",
        "$$\n"
      ],
      "metadata": {
        "id": "RTtoNVZKL_Rv"
      }
    },
    {
      "cell_type": "code",
      "source": [
        "Mp = Mp.subs(coeffs)\n",
        "Mp"
      ],
      "metadata": {
        "colab": {
          "base_uri": "https://localhost:8080/",
          "height": 52
        },
        "id": "DuLjlPsuMtEG",
        "outputId": "cffbc7b4-9ae6-45b2-cb82-26f9db148d62"
      },
      "execution_count": 5,
      "outputs": [
        {
          "output_type": "execute_result",
          "data": {
            "text/plain": [
              "  2       1  \n",
              "───── - ─────\n",
              "s + 3   s + 2"
            ],
            "image/png": "[encoded data removed]",
            "text/latex": "$\\displaystyle \\frac{2}{s + 3} - \\frac{1}{s + 2}$"
          },
          "metadata": {},
          "execution_count": 5
        }
      ]
    },
    {
      "cell_type": "markdown",
      "source": [
        "Applyng the inverse transform one has\n",
        "\n",
        "$$\n",
        "m(t)=-e^{-2t}u(t)+2e^{-3t}u(t).\n",
        "$$"
      ],
      "metadata": {
        "id": "3-WbZzxsMyGv"
      }
    },
    {
      "cell_type": "code",
      "source": [
        "\n",
        "m = sym.inverse_laplace_transform(Mp, s, t)\n",
        "\n",
        "print(\"The inverse Laplace transform of the signal is\", )\n",
        "m"
      ],
      "metadata": {
        "colab": {
          "base_uri": "https://localhost:8080/",
          "height": 56
        },
        "id": "LUZhr4D8MYvI",
        "outputId": "2865d230-ab7b-46da-867e-b2fdb0af5b7f"
      },
      "execution_count": 6,
      "outputs": [
        {
          "output_type": "stream",
          "name": "stdout",
          "text": [
            "The inverse Laplace transform of the signal is\n"
          ]
        },
        {
          "output_type": "execute_result",
          "data": {
            "text/plain": [
              "⎛     t⎞  -3⋅t     \n",
              "⎝2 - ℯ ⎠⋅ℯ    ⋅θ(t)"
            ],
            "image/png": "[encoded data removed]",
            "text/latex": "$\\displaystyle \\left(2 - e^{t}\\right) e^{- 3 t} \\theta\\left(t\\right)$"
          },
          "metadata": {},
          "execution_count": 6
        }
      ]
    },
    {
      "cell_type": "markdown",
      "source": [
        "The same result is obtained with the function $M(s)$."
      ],
      "metadata": {
        "id": "F4nUQFUiM5YR"
      }
    },
    {
      "cell_type": "code",
      "source": [
        "m = sym.inverse_laplace_transform(M, s, t)\n",
        "\n",
        "print(\"The inverse Laplace transform of the signal is\", )\n",
        "m"
      ],
      "metadata": {
        "colab": {
          "base_uri": "https://localhost:8080/",
          "height": 56
        },
        "id": "pT6p8Q4DNA7v",
        "outputId": "ca3003f1-8b79-4041-e417-864569f79fd1"
      },
      "execution_count": 7,
      "outputs": [
        {
          "output_type": "stream",
          "name": "stdout",
          "text": [
            "The inverse Laplace transform of the signal is\n"
          ]
        },
        {
          "output_type": "execute_result",
          "data": {
            "text/plain": [
              "⎛     t⎞  -3⋅t     \n",
              "⎝2 - ℯ ⎠⋅ℯ    ⋅θ(t)"
            ],
            "image/png": "[encoded data removed]",
            "text/latex": "$\\displaystyle \\left(2 - e^{t}\\right) e^{- 3 t} \\theta\\left(t\\right)$"
          },
          "metadata": {},
          "execution_count": 7
        }
      ]
    },
    {
      "cell_type": "markdown",
      "source": [
        "Find the inverse Laplace transform of the signal\n",
        "$$\n",
        "G(s)=100\\frac{(s+1)^2-4}{(s^2+2s+5)^2}.\n",
        "$$\n"
      ],
      "metadata": {
        "id": "Pn-RVmRZyXDz"
      }
    },
    {
      "cell_type": "code",
      "source": [
        "N = (s+1)**2-4\n",
        "D = (s**2+2*s+5)**2\n",
        "\n",
        "X = 100*N/D\n",
        "\n",
        "x = sym.inverse_laplace_transform(X, s, t)\n",
        "\n",
        "print(\"The inverse Laplace transform of the signal is\", )\n",
        "x"
      ],
      "metadata": {
        "colab": {
          "base_uri": "https://localhost:8080/",
          "height": 56
        },
        "id": "_W0Uwug1ymno",
        "outputId": "88e0cf5e-13ca-4e90-85ec-645c057db50a"
      },
      "execution_count": 8,
      "outputs": [
        {
          "output_type": "stream",
          "name": "stdout",
          "text": [
            "The inverse Laplace transform of the signal is\n"
          ]
        },
        {
          "output_type": "execute_result",
          "data": {
            "text/plain": [
              "       -t              \n",
              "100⋅t⋅ℯ  ⋅cos(2⋅t)⋅θ(t)"
            ],
            "image/png": "[encoded data removed]",
            "text/latex": "$\\displaystyle 100 t e^{- t} \\cos{\\left(2 t \\right)} \\theta\\left(t\\right)$"
          },
          "metadata": {},
          "execution_count": 8
        }
      ]
    }
  ]
}